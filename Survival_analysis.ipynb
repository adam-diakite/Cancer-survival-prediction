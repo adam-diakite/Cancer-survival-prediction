{
  "nbformat": 4,
  "nbformat_minor": 0,
  "metadata": {
    "colab": {
      "provenance": []
    },
    "kernelspec": {
      "name": "python3",
      "display_name": "Python 3"
    },
    "language_info": {
      "name": "python"
    }
  },
  "cells": [
    {
      "cell_type": "code",
      "execution_count": 1,
      "metadata": {
        "id": "BfrJDLwNeboE"
      },
      "outputs": [],
      "source": [
        "import pandas as pd\n",
        "import numpy as np\n",
        "\n",
        "from sklearn.pipeline import Pipeline\n",
        "from sklearn.decomposition import PCA\n",
        "from sklearn.preprocessing import StandardScaler\n",
        "from sklearn.ensemble import GradientBoostingClassifier,RandomForestClassifier\n",
        "from sklearn.tree import DecisionTreeClassifier\n",
        "from sklearn.compose import ColumnTransformer\n",
        "from sklearn.preprocessing import OneHotEncoder\n",
        "from sklearn.impute import SimpleImputer\n",
        "from sklearn.feature_selection import SelectPercentile, chi2\n",
        "from sklearn.model_selection import train_test_split\n",
        "from sklearn.metrics import classification_report,roc_auc_score"
      ]
    },
    {
      "cell_type": "markdown",
      "source": [
        "# Load Dataset\n"
      ],
      "metadata": {
        "id": "INENt7QPrQ3p"
      }
    },
    {
      "cell_type": "code",
      "source": [
        "data=pd.read_csv(\"/content/Classeur_TP_fevr2023.csv\")\n",
        "data.head()"
      ],
      "metadata": {
        "colab": {
          "base_uri": "https://localhost:8080/",
          "height": 369
        },
        "id": "rHJkOWWeqz7L",
        "outputId": "75cf40fb-f0ce-4547-892a-ffeba0bb49fe"
      },
      "execution_count": 4,
      "outputs": [
        {
          "output_type": "execute_result",
          "data": {
            "text/plain": [
              "   NUMERO ANONYME STATUT EN 01/22  statut  time_months Failure_first_ttt  \\\n",
              "0              62          EN VIE       0           35                No   \n",
              "1              67          DECES        1           33               Yes   \n",
              "2              68          DECES        1           34                No   \n",
              "3             105          EN VIE       0           74               Yes   \n",
              "4             118    PERDU DE VUE       0            1               NaN   \n",
              "\n",
              "  Status_2y Status_5y Relapse_after_CR Primary_response Overall_response  ...  \\\n",
              "0     Alive       NaN               No               PR               PR  ...   \n",
              "1     Alive      Dead               No               SD               PR  ...   \n",
              "2     Alive      Dead              Yes               PR               PR  ...   \n",
              "3     Alive     Alive               No               PR               PR  ...   \n",
              "4       NaN       NaN              NaN              NaN              NaN  ...   \n",
              "\n",
              "  VOI40_SPECT_Asphericity VOI40_SPECT_NormalizedHocRadiusSphere  \\\n",
              "0                0.983674                              0.479734   \n",
              "1                0.581737                              0.500597   \n",
              "2                0.329291                              0.554013   \n",
              "3                0.408325                              0.541580   \n",
              "4                0.850333                              1.179227   \n",
              "\n",
              "  VOI40_SPECT_Maximum3DDiameter  VOI40_SPECT_Maximum3DDiameter_normHeight  \\\n",
              "0                    120.588307                                  1.488745   \n",
              "1                    228.502253                                  2.285023   \n",
              "2                     28.116246                                  0.251038   \n",
              "3                    111.550046                                  1.616667   \n",
              "4                    152.549411                                  1.326517   \n",
              "\n",
              "  VOI40_SPECT_Mean_Ratio_Mean_Liver VOI40_SPECT_Skewness VOI40_SPECT_Kurtosis  \\\n",
              "0                          0.745309             0.371530             0.130404   \n",
              "1                          4.133030            -0.104899            -0.392836   \n",
              "2                          1.579389             0.517022            -1.731853   \n",
              "3                          2.030242            -0.478963             0.055675   \n",
              "4                          3.259366             0.283834            -0.101313   \n",
              "\n",
              "  VOI40_SPECT_MaximumGreyLevel_Ratio_Mean_Liver        Visual_uptake  \\\n",
              "0                                      1.267516   Uptake_lower_liver   \n",
              "1                                      6.518270  Upatke_higher_liver   \n",
              "2                                      1.751086  Upatke_higher_liver   \n",
              "3                                      3.212246  Upatke_higher_liver   \n",
              "4                                      5.814274  Upatke_higher_liver   \n",
              "\n",
              "  Visual_heterogeneity  \n",
              "0        Heterogeneous  \n",
              "1        Heterogeneous  \n",
              "2        Heterogeneous  \n",
              "3          Homogeneous  \n",
              "4        Heterogeneous  \n",
              "\n",
              "[5 rows x 60 columns]"
            ],
            "text/html": [
              "\n",
              "  <div id=\"df-77f817d7-9c31-4c44-b14f-585ef4675eaa\">\n",
              "    <div class=\"colab-df-container\">\n",
              "      <div>\n",
              "<style scoped>\n",
              "    .dataframe tbody tr th:only-of-type {\n",
              "        vertical-align: middle;\n",
              "    }\n",
              "\n",
              "    .dataframe tbody tr th {\n",
              "        vertical-align: top;\n",
              "    }\n",
              "\n",
              "    .dataframe thead th {\n",
              "        text-align: right;\n",
              "    }\n",
              "</style>\n",
              "<table border=\"1\" class=\"dataframe\">\n",
              "  <thead>\n",
              "    <tr style=\"text-align: right;\">\n",
              "      <th></th>\n",
              "      <th>NUMERO ANONYME</th>\n",
              "      <th>STATUT EN 01/22</th>\n",
              "      <th>statut</th>\n",
              "      <th>time_months</th>\n",
              "      <th>Failure_first_ttt</th>\n",
              "      <th>Status_2y</th>\n",
              "      <th>Status_5y</th>\n",
              "      <th>Relapse_after_CR</th>\n",
              "      <th>Primary_response</th>\n",
              "      <th>Overall_response</th>\n",
              "      <th>...</th>\n",
              "      <th>VOI40_SPECT_Asphericity</th>\n",
              "      <th>VOI40_SPECT_NormalizedHocRadiusSphere</th>\n",
              "      <th>VOI40_SPECT_Maximum3DDiameter</th>\n",
              "      <th>VOI40_SPECT_Maximum3DDiameter_normHeight</th>\n",
              "      <th>VOI40_SPECT_Mean_Ratio_Mean_Liver</th>\n",
              "      <th>VOI40_SPECT_Skewness</th>\n",
              "      <th>VOI40_SPECT_Kurtosis</th>\n",
              "      <th>VOI40_SPECT_MaximumGreyLevel_Ratio_Mean_Liver</th>\n",
              "      <th>Visual_uptake</th>\n",
              "      <th>Visual_heterogeneity</th>\n",
              "    </tr>\n",
              "  </thead>\n",
              "  <tbody>\n",
              "    <tr>\n",
              "      <th>0</th>\n",
              "      <td>62</td>\n",
              "      <td>EN VIE</td>\n",
              "      <td>0</td>\n",
              "      <td>35</td>\n",
              "      <td>No</td>\n",
              "      <td>Alive</td>\n",
              "      <td>NaN</td>\n",
              "      <td>No</td>\n",
              "      <td>PR</td>\n",
              "      <td>PR</td>\n",
              "      <td>...</td>\n",
              "      <td>0.983674</td>\n",
              "      <td>0.479734</td>\n",
              "      <td>120.588307</td>\n",
              "      <td>1.488745</td>\n",
              "      <td>0.745309</td>\n",
              "      <td>0.371530</td>\n",
              "      <td>0.130404</td>\n",
              "      <td>1.267516</td>\n",
              "      <td>Uptake_lower_liver</td>\n",
              "      <td>Heterogeneous</td>\n",
              "    </tr>\n",
              "    <tr>\n",
              "      <th>1</th>\n",
              "      <td>67</td>\n",
              "      <td>DECES</td>\n",
              "      <td>1</td>\n",
              "      <td>33</td>\n",
              "      <td>Yes</td>\n",
              "      <td>Alive</td>\n",
              "      <td>Dead</td>\n",
              "      <td>No</td>\n",
              "      <td>SD</td>\n",
              "      <td>PR</td>\n",
              "      <td>...</td>\n",
              "      <td>0.581737</td>\n",
              "      <td>0.500597</td>\n",
              "      <td>228.502253</td>\n",
              "      <td>2.285023</td>\n",
              "      <td>4.133030</td>\n",
              "      <td>-0.104899</td>\n",
              "      <td>-0.392836</td>\n",
              "      <td>6.518270</td>\n",
              "      <td>Upatke_higher_liver</td>\n",
              "      <td>Heterogeneous</td>\n",
              "    </tr>\n",
              "    <tr>\n",
              "      <th>2</th>\n",
              "      <td>68</td>\n",
              "      <td>DECES</td>\n",
              "      <td>1</td>\n",
              "      <td>34</td>\n",
              "      <td>No</td>\n",
              "      <td>Alive</td>\n",
              "      <td>Dead</td>\n",
              "      <td>Yes</td>\n",
              "      <td>PR</td>\n",
              "      <td>PR</td>\n",
              "      <td>...</td>\n",
              "      <td>0.329291</td>\n",
              "      <td>0.554013</td>\n",
              "      <td>28.116246</td>\n",
              "      <td>0.251038</td>\n",
              "      <td>1.579389</td>\n",
              "      <td>0.517022</td>\n",
              "      <td>-1.731853</td>\n",
              "      <td>1.751086</td>\n",
              "      <td>Upatke_higher_liver</td>\n",
              "      <td>Heterogeneous</td>\n",
              "    </tr>\n",
              "    <tr>\n",
              "      <th>3</th>\n",
              "      <td>105</td>\n",
              "      <td>EN VIE</td>\n",
              "      <td>0</td>\n",
              "      <td>74</td>\n",
              "      <td>Yes</td>\n",
              "      <td>Alive</td>\n",
              "      <td>Alive</td>\n",
              "      <td>No</td>\n",
              "      <td>PR</td>\n",
              "      <td>PR</td>\n",
              "      <td>...</td>\n",
              "      <td>0.408325</td>\n",
              "      <td>0.541580</td>\n",
              "      <td>111.550046</td>\n",
              "      <td>1.616667</td>\n",
              "      <td>2.030242</td>\n",
              "      <td>-0.478963</td>\n",
              "      <td>0.055675</td>\n",
              "      <td>3.212246</td>\n",
              "      <td>Upatke_higher_liver</td>\n",
              "      <td>Homogeneous</td>\n",
              "    </tr>\n",
              "    <tr>\n",
              "      <th>4</th>\n",
              "      <td>118</td>\n",
              "      <td>PERDU DE VUE</td>\n",
              "      <td>0</td>\n",
              "      <td>1</td>\n",
              "      <td>NaN</td>\n",
              "      <td>NaN</td>\n",
              "      <td>NaN</td>\n",
              "      <td>NaN</td>\n",
              "      <td>NaN</td>\n",
              "      <td>NaN</td>\n",
              "      <td>...</td>\n",
              "      <td>0.850333</td>\n",
              "      <td>1.179227</td>\n",
              "      <td>152.549411</td>\n",
              "      <td>1.326517</td>\n",
              "      <td>3.259366</td>\n",
              "      <td>0.283834</td>\n",
              "      <td>-0.101313</td>\n",
              "      <td>5.814274</td>\n",
              "      <td>Upatke_higher_liver</td>\n",
              "      <td>Heterogeneous</td>\n",
              "    </tr>\n",
              "  </tbody>\n",
              "</table>\n",
              "<p>5 rows × 60 columns</p>\n",
              "</div>\n",
              "      <button class=\"colab-df-convert\" onclick=\"convertToInteractive('df-77f817d7-9c31-4c44-b14f-585ef4675eaa')\"\n",
              "              title=\"Convert this dataframe to an interactive table.\"\n",
              "              style=\"display:none;\">\n",
              "        \n",
              "  <svg xmlns=\"http://www.w3.org/2000/svg\" height=\"24px\"viewBox=\"0 0 24 24\"\n",
              "       width=\"24px\">\n",
              "    <path d=\"M0 0h24v24H0V0z\" fill=\"none\"/>\n",
              "    <path d=\"M18.56 5.44l.94 2.06.94-2.06 2.06-.94-2.06-.94-.94-2.06-.94 2.06-2.06.94zm-11 1L8.5 8.5l.94-2.06 2.06-.94-2.06-.94L8.5 2.5l-.94 2.06-2.06.94zm10 10l.94 2.06.94-2.06 2.06-.94-2.06-.94-.94-2.06-.94 2.06-2.06.94z\"/><path d=\"M17.41 7.96l-1.37-1.37c-.4-.4-.92-.59-1.43-.59-.52 0-1.04.2-1.43.59L10.3 9.45l-7.72 7.72c-.78.78-.78 2.05 0 2.83L4 21.41c.39.39.9.59 1.41.59.51 0 1.02-.2 1.41-.59l7.78-7.78 2.81-2.81c.8-.78.8-2.07 0-2.86zM5.41 20L4 18.59l7.72-7.72 1.47 1.35L5.41 20z\"/>\n",
              "  </svg>\n",
              "      </button>\n",
              "      \n",
              "  <style>\n",
              "    .colab-df-container {\n",
              "      display:flex;\n",
              "      flex-wrap:wrap;\n",
              "      gap: 12px;\n",
              "    }\n",
              "\n",
              "    .colab-df-convert {\n",
              "      background-color: #E8F0FE;\n",
              "      border: none;\n",
              "      border-radius: 50%;\n",
              "      cursor: pointer;\n",
              "      display: none;\n",
              "      fill: #1967D2;\n",
              "      height: 32px;\n",
              "      padding: 0 0 0 0;\n",
              "      width: 32px;\n",
              "    }\n",
              "\n",
              "    .colab-df-convert:hover {\n",
              "      background-color: #E2EBFA;\n",
              "      box-shadow: 0px 1px 2px rgba(60, 64, 67, 0.3), 0px 1px 3px 1px rgba(60, 64, 67, 0.15);\n",
              "      fill: #174EA6;\n",
              "    }\n",
              "\n",
              "    [theme=dark] .colab-df-convert {\n",
              "      background-color: #3B4455;\n",
              "      fill: #D2E3FC;\n",
              "    }\n",
              "\n",
              "    [theme=dark] .colab-df-convert:hover {\n",
              "      background-color: #434B5C;\n",
              "      box-shadow: 0px 1px 3px 1px rgba(0, 0, 0, 0.15);\n",
              "      filter: drop-shadow(0px 1px 2px rgba(0, 0, 0, 0.3));\n",
              "      fill: #FFFFFF;\n",
              "    }\n",
              "  </style>\n",
              "\n",
              "      <script>\n",
              "        const buttonEl =\n",
              "          document.querySelector('#df-77f817d7-9c31-4c44-b14f-585ef4675eaa button.colab-df-convert');\n",
              "        buttonEl.style.display =\n",
              "          google.colab.kernel.accessAllowed ? 'block' : 'none';\n",
              "\n",
              "        async function convertToInteractive(key) {\n",
              "          const element = document.querySelector('#df-77f817d7-9c31-4c44-b14f-585ef4675eaa');\n",
              "          const dataTable =\n",
              "            await google.colab.kernel.invokeFunction('convertToInteractive',\n",
              "                                                     [key], {});\n",
              "          if (!dataTable) return;\n",
              "\n",
              "          const docLinkHtml = 'Like what you see? Visit the ' +\n",
              "            '<a target=\"_blank\" href=https://colab.research.google.com/notebooks/data_table.ipynb>data table notebook</a>'\n",
              "            + ' to learn more about interactive tables.';\n",
              "          element.innerHTML = '';\n",
              "          dataTable['output_type'] = 'display_data';\n",
              "          await google.colab.output.renderOutput(dataTable, element);\n",
              "          const docLink = document.createElement('div');\n",
              "          docLink.innerHTML = docLinkHtml;\n",
              "          element.appendChild(docLink);\n",
              "        }\n",
              "      </script>\n",
              "    </div>\n",
              "  </div>\n",
              "  "
            ]
          },
          "metadata": {},
          "execution_count": 4
        }
      ]
    },
    {
      "cell_type": "markdown",
      "source": [
        "# Binary Classification Model"
      ],
      "metadata": {
        "id": "f53nmch9rLSF"
      }
    },
    {
      "cell_type": "code",
      "source": [
        "target_candidate=[\"statut\",\"time_months\",\"Failure_first_ttt\",\"Status_2y\",\"Status_5y\",\"Relapse_after_CR\",\"Primary_response\",\"Overall_response\",\"Intitial_global_response\"]"
      ],
      "metadata": {
        "id": "Dhwsxm99rO6l"
      },
      "execution_count": 5,
      "outputs": []
    },
    {
      "cell_type": "code",
      "source": [
        "data.isnull().sum()"
      ],
      "metadata": {
        "colab": {
          "base_uri": "https://localhost:8080/"
        },
        "id": "LsoYC6MtrWM3",
        "outputId": "5cc97609-b931-4f7f-8e18-e062bd859f9a"
      },
      "execution_count": 6,
      "outputs": [
        {
          "output_type": "execute_result",
          "data": {
            "text/plain": [
              "NUMERO ANONYME                                    0\n",
              "STATUT EN 01/22                                   0\n",
              "statut                                            0\n",
              "time_months                                       0\n",
              "Failure_first_ttt                                 1\n",
              "Status_2y                                         1\n",
              "Status_5y                                        39\n",
              "Relapse_after_CR                                  1\n",
              "Primary_response                                  1\n",
              "Overall_response                                  1\n",
              "Intitial_global_response                          1\n",
              "Initial_ttt                                       0\n",
              "Sex                                               0\n",
              "Age_months                                        0\n",
              "Lower_18m                                         0\n",
              "MKI                                              24\n",
              "INPC                                             18\n",
              "Genomic_class                                    15\n",
              "MYCN                                              1\n",
              "INRGSS                                            0\n",
              "Primitif_compartment                              0\n",
              "IDRF                                              0\n",
              "NRB_sabliers_variantes                            0\n",
              "M_node                                            0\n",
              "M_bone                                            0\n",
              "M_om                                              0\n",
              "M_liver                                           0\n",
              "MSI_Index                                         0\n",
              "Subtype                                           6\n",
              "Baseline_siopen                                   0\n",
              "Baseline_LDH                                      1\n",
              "Baseline_ratio_VMA_HVA                           24\n",
              "Baseline_risk_group                               3\n",
              "Post_ttt_siopen                                  19\n",
              "VOIm_SPECT_ApproximateVolume                      0\n",
              "VOIm_SPECT_ApproximateVolume_normBSA              0\n",
              "VOIm_SPECT_Asphericity                            0\n",
              "VOIm_SPECT_HocMaxNormalizedWithRadiusSphere       0\n",
              "VOIm_SPECT_Maximum3DDiameter                      0\n",
              "VOIm_SPECT_Maximum3DDiameter_normHeight           0\n",
              "VOIm_SPECT_Mean_Ratio_Mean_Liver                  0\n",
              "VOIm_SPECT_Skewness                               0\n",
              "VOIm_SPECT_Kurtosis                               0\n",
              "VOIm_SPECT_MaximumGreyLevel_Ratio_Mean_Liver      0\n",
              "VOIm_CT_MinimumGreyLevel                          0\n",
              "VOIm_CT_10thPercentile                            0\n",
              "VOIm_CT_90thPercentile                            0\n",
              "VOIm_CT_MaximumGreyLevel                          0\n",
              "VOI40_SPECT_ApproximateVolume                     0\n",
              "VOI40_SPECT_ApproximateVolume_normBSA             0\n",
              "VOI40_SPECT_Asphericity                           0\n",
              "VOI40_SPECT_NormalizedHocRadiusSphere             0\n",
              "VOI40_SPECT_Maximum3DDiameter                     0\n",
              "VOI40_SPECT_Maximum3DDiameter_normHeight          0\n",
              "VOI40_SPECT_Mean_Ratio_Mean_Liver                 0\n",
              "VOI40_SPECT_Skewness                              0\n",
              "VOI40_SPECT_Kurtosis                              0\n",
              "VOI40_SPECT_MaximumGreyLevel_Ratio_Mean_Liver     0\n",
              "Visual_uptake                                     0\n",
              "Visual_heterogeneity                              0\n",
              "dtype: int64"
            ]
          },
          "metadata": {},
          "execution_count": 6
        }
      ]
    },
    {
      "cell_type": "code",
      "source": [
        "data.dtypes"
      ],
      "metadata": {
        "colab": {
          "base_uri": "https://localhost:8080/"
        },
        "id": "FnN5chTLrZep",
        "outputId": "100b117c-7d8a-4c48-d854-e0d1da8b93a2"
      },
      "execution_count": 7,
      "outputs": [
        {
          "output_type": "execute_result",
          "data": {
            "text/plain": [
              "NUMERO ANONYME                                     int64\n",
              "STATUT EN 01/22                                   object\n",
              "statut                                             int64\n",
              "time_months                                        int64\n",
              "Failure_first_ttt                                 object\n",
              "Status_2y                                         object\n",
              "Status_5y                                         object\n",
              "Relapse_after_CR                                  object\n",
              "Primary_response                                  object\n",
              "Overall_response                                  object\n",
              "Intitial_global_response                          object\n",
              "Initial_ttt                                       object\n",
              "Sex                                               object\n",
              "Age_months                                       float64\n",
              "Lower_18m                                         object\n",
              "MKI                                               object\n",
              "INPC                                              object\n",
              "Genomic_class                                     object\n",
              "MYCN                                              object\n",
              "INRGSS                                            object\n",
              "Primitif_compartment                              object\n",
              "IDRF                                              object\n",
              "NRB_sabliers_variantes                            object\n",
              "M_node                                            object\n",
              "M_bone                                            object\n",
              "M_om                                              object\n",
              "M_liver                                           object\n",
              "MSI_Index                                         object\n",
              "Subtype                                           object\n",
              "Baseline_siopen                                    int64\n",
              "Baseline_LDH                                      object\n",
              "Baseline_ratio_VMA_HVA                            object\n",
              "Baseline_risk_group                               object\n",
              "Post_ttt_siopen                                  float64\n",
              "VOIm_SPECT_ApproximateVolume                       int64\n",
              "VOIm_SPECT_ApproximateVolume_normBSA             float64\n",
              "VOIm_SPECT_Asphericity                           float64\n",
              "VOIm_SPECT_HocMaxNormalizedWithRadiusSphere      float64\n",
              "VOIm_SPECT_Maximum3DDiameter                     float64\n",
              "VOIm_SPECT_Maximum3DDiameter_normHeight          float64\n",
              "VOIm_SPECT_Mean_Ratio_Mean_Liver                 float64\n",
              "VOIm_SPECT_Skewness                              float64\n",
              "VOIm_SPECT_Kurtosis                              float64\n",
              "VOIm_SPECT_MaximumGreyLevel_Ratio_Mean_Liver     float64\n",
              "VOIm_CT_MinimumGreyLevel                         float64\n",
              "VOIm_CT_10thPercentile                           float64\n",
              "VOIm_CT_90thPercentile                           float64\n",
              "VOIm_CT_MaximumGreyLevel                         float64\n",
              "VOI40_SPECT_ApproximateVolume                      int64\n",
              "VOI40_SPECT_ApproximateVolume_normBSA            float64\n",
              "VOI40_SPECT_Asphericity                          float64\n",
              "VOI40_SPECT_NormalizedHocRadiusSphere            float64\n",
              "VOI40_SPECT_Maximum3DDiameter                    float64\n",
              "VOI40_SPECT_Maximum3DDiameter_normHeight         float64\n",
              "VOI40_SPECT_Mean_Ratio_Mean_Liver                float64\n",
              "VOI40_SPECT_Skewness                             float64\n",
              "VOI40_SPECT_Kurtosis                             float64\n",
              "VOI40_SPECT_MaximumGreyLevel_Ratio_Mean_Liver    float64\n",
              "Visual_uptake                                     object\n",
              "Visual_heterogeneity                              object\n",
              "dtype: object"
            ]
          },
          "metadata": {},
          "execution_count": 7
        }
      ]
    },
    {
      "cell_type": "code",
      "source": [
        "#Selection des features numériques = quantitatives\n",
        "#Suppression de la variable Numero Anonyme qui n'est pas à prédire\n",
        "\n",
        "numeric_features=data.select_dtypes(exclude=['object']).columns.to_list()\n",
        "numeric_features=[col for col in numeric_features if col not in target_candidate]\n",
        "numeric_features.remove(\"NUMERO ANONYME\")\n",
        "numeric_features"
      ],
      "metadata": {
        "colab": {
          "base_uri": "https://localhost:8080/"
        },
        "id": "F3ETf7bIraeo",
        "outputId": "9c464347-424e-44d2-dc51-7b28f81ee016"
      },
      "execution_count": 8,
      "outputs": [
        {
          "output_type": "execute_result",
          "data": {
            "text/plain": [
              "['Age_months',\n",
              " 'Baseline_siopen',\n",
              " 'Post_ttt_siopen',\n",
              " 'VOIm_SPECT_ApproximateVolume',\n",
              " 'VOIm_SPECT_ApproximateVolume_normBSA',\n",
              " 'VOIm_SPECT_Asphericity',\n",
              " 'VOIm_SPECT_HocMaxNormalizedWithRadiusSphere',\n",
              " 'VOIm_SPECT_Maximum3DDiameter',\n",
              " 'VOIm_SPECT_Maximum3DDiameter_normHeight',\n",
              " 'VOIm_SPECT_Mean_Ratio_Mean_Liver',\n",
              " 'VOIm_SPECT_Skewness',\n",
              " 'VOIm_SPECT_Kurtosis',\n",
              " 'VOIm_SPECT_MaximumGreyLevel_Ratio_Mean_Liver',\n",
              " 'VOIm_CT_MinimumGreyLevel',\n",
              " 'VOIm_CT_10thPercentile',\n",
              " 'VOIm_CT_90thPercentile',\n",
              " 'VOIm_CT_MaximumGreyLevel',\n",
              " 'VOI40_SPECT_ApproximateVolume',\n",
              " 'VOI40_SPECT_ApproximateVolume_normBSA',\n",
              " 'VOI40_SPECT_Asphericity',\n",
              " 'VOI40_SPECT_NormalizedHocRadiusSphere',\n",
              " 'VOI40_SPECT_Maximum3DDiameter',\n",
              " 'VOI40_SPECT_Maximum3DDiameter_normHeight',\n",
              " 'VOI40_SPECT_Mean_Ratio_Mean_Liver',\n",
              " 'VOI40_SPECT_Skewness',\n",
              " 'VOI40_SPECT_Kurtosis',\n",
              " 'VOI40_SPECT_MaximumGreyLevel_Ratio_Mean_Liver']"
            ]
          },
          "metadata": {},
          "execution_count": 8
        }
      ]
    },
    {
      "cell_type": "code",
      "source": [
        "#Selection des features qualitatives (categorical)\n",
        "#Suppression de STATUT EN 01/22 qui n'est pas à prédire\n",
        "\n",
        "categorical_features=data.select_dtypes(include=['object']).columns.to_list()\n",
        "categorical_features=[col for col in categorical_features if col not in target_candidate]\n",
        "categorical_features.remove(\"STATUT EN 01/22\")\n",
        "categorical_features"
      ],
      "metadata": {
        "colab": {
          "base_uri": "https://localhost:8080/"
        },
        "id": "Aa9Q5_gbri6p",
        "outputId": "c0f7809a-d6be-471e-dc26-fcb622daf369"
      },
      "execution_count": 9,
      "outputs": [
        {
          "output_type": "execute_result",
          "data": {
            "text/plain": [
              "['Initial_ttt',\n",
              " 'Sex',\n",
              " 'Lower_18m',\n",
              " 'MKI',\n",
              " 'INPC',\n",
              " 'Genomic_class',\n",
              " 'MYCN',\n",
              " 'INRGSS',\n",
              " 'Primitif_compartment',\n",
              " 'IDRF',\n",
              " 'NRB_sabliers_variantes',\n",
              " 'M_node',\n",
              " 'M_bone',\n",
              " 'M_om',\n",
              " 'M_liver',\n",
              " 'MSI_Index',\n",
              " 'Subtype',\n",
              " 'Baseline_LDH',\n",
              " 'Baseline_ratio_VMA_HVA',\n",
              " 'Baseline_risk_group',\n",
              " 'Visual_uptake',\n",
              " 'Visual_heterogeneity']"
            ]
          },
          "metadata": {},
          "execution_count": 9
        }
      ]
    },
    {
      "cell_type": "code",
      "source": [
        "#Pipeline pour suite d'opérations redondantes\n",
        "#Remlacement par des valeurs médianes\n",
        "\n",
        "numeric_transformer = Pipeline(\n",
        "    steps=[(\"imputer\", SimpleImputer(strategy=\"median\")), (\"scaler\", StandardScaler())]\n",
        ")\n",
        "\n",
        "#Attribution de variables aux variables catégorical : 001, 010, 100... toutes les combinaisons possibles.\n",
        "categorical_transformer = Pipeline(\n",
        "    steps=[\n",
        "        (\"encoder\", OneHotEncoder(handle_unknown=\"ignore\")),\n",
        "        (\"selector\", SelectPercentile(chi2, percentile=50)),\n",
        "    ]\n",
        ")\n",
        "\n",
        "preprocessor = ColumnTransformer(\n",
        "    transformers=[\n",
        "        (\"num\", numeric_transformer, numeric_features),\n",
        "        (\"cat\", categorical_transformer, categorical_features),\n",
        "    ]\n",
        ")"
      ],
      "metadata": {
        "id": "kZWjBoeHrxVg"
      },
      "execution_count": 11,
      "outputs": []
    },
    {
      "cell_type": "markdown",
      "source": [
        "# Classification binaire : statut dans 2 ans"
      ],
      "metadata": {
        "id": "F_7cH9RGt3il"
      }
    },
    {
      "cell_type": "code",
      "source": [
        "target=\"Status_2y\""
      ],
      "metadata": {
        "id": "RtR-rC3msxOx"
      },
      "execution_count": 12,
      "outputs": []
    },
    {
      "cell_type": "code",
      "source": [
        "df=data.dropna(subset = [target])### drop null values in target"
      ],
      "metadata": {
        "id": "gEgbMGp8szov"
      },
      "execution_count": 13,
      "outputs": []
    },
    {
      "cell_type": "code",
      "source": [
        "df[target].unique()"
      ],
      "metadata": {
        "colab": {
          "base_uri": "https://localhost:8080/"
        },
        "id": "sK8AkhLes1nb",
        "outputId": "cfc532fe-8e8b-447e-b99a-36deb9377fea"
      },
      "execution_count": 14,
      "outputs": [
        {
          "output_type": "execute_result",
          "data": {
            "text/plain": [
              "array(['Alive', 'Dead'], dtype=object)"
            ]
          },
          "metadata": {},
          "execution_count": 14
        }
      ]
    },
    {
      "cell_type": "code",
      "source": [
        "replace_dict={\"Alive\":0,\"Dead\":1}\n",
        "df[target]=df[target].replace(replace_dict)"
      ],
      "metadata": {
        "colab": {
          "base_uri": "https://localhost:8080/"
        },
        "id": "WGxiKHaMs3e_",
        "outputId": "af97a1de-1033-4eec-f48a-bf2a2a6fe1c0"
      },
      "execution_count": 15,
      "outputs": [
        {
          "output_type": "stream",
          "name": "stderr",
          "text": [
            "<ipython-input-15-1da7359c199d>:2: SettingWithCopyWarning: \n",
            "A value is trying to be set on a copy of a slice from a DataFrame.\n",
            "Try using .loc[row_indexer,col_indexer] = value instead\n",
            "\n",
            "See the caveats in the documentation: https://pandas.pydata.org/pandas-docs/stable/user_guide/indexing.html#returning-a-view-versus-a-copy\n",
            "  df[target]=df[target].replace(replace_dict)\n"
          ]
        }
      ]
    },
    {
      "cell_type": "code",
      "source": [
        "#X = features nous permettant les prédictions\n",
        "#Y = classes\n",
        "X=df[numeric_features+categorical_features]\n",
        "y=df[target]"
      ],
      "metadata": {
        "id": "hv9lucVTs_O0"
      },
      "execution_count": 16,
      "outputs": []
    },
    {
      "cell_type": "code",
      "source": [
        "#Equilibrage des classes \n",
        "from imblearn.over_sampling import RandomOverSampler\n",
        "ros = RandomOverSampler(random_state=0)\n",
        "X_resampled, y_resampled = ros.fit_resample(X, y)"
      ],
      "metadata": {
        "id": "Bn73r-zItBp3"
      },
      "execution_count": 18,
      "outputs": []
    },
    {
      "cell_type": "code",
      "source": [
        "#Classifier Gradient Boosting\n",
        "clf = Pipeline(\n",
        "    steps=[(\"preprocessor\", preprocessor),(\"classifier\", GradientBoostingClassifier())]\n",
        ")\n",
        "\n",
        "X_train, X_test, y_train, y_test = train_test_split(X_resampled,y_resampled, test_size=0.25,random_state=42)\n",
        "\n",
        "clf.fit(X_train, y_train)\n",
        "print(\"model score: %.3f\" % clf.score(X_test, y_test))\n",
        "print(\"model auc score %.3f\" % roc_auc_score( y_test,clf.predict(X_test)))\n",
        "print(classification_report( y_test,clf.predict(X_test)))"
      ],
      "metadata": {
        "colab": {
          "base_uri": "https://localhost:8080/"
        },
        "id": "7xKJk86DtME3",
        "outputId": "f2f61022-b299-4f22-bbaf-00ed438337d8"
      },
      "execution_count": 19,
      "outputs": [
        {
          "output_type": "stream",
          "name": "stdout",
          "text": [
            "model score: 0.975\n",
            "model auc score 0.971\n",
            "              precision    recall  f1-score   support\n",
            "\n",
            "           0       1.00      0.94      0.97        17\n",
            "           1       0.96      1.00      0.98        23\n",
            "\n",
            "    accuracy                           0.97        40\n",
            "   macro avg       0.98      0.97      0.97        40\n",
            "weighted avg       0.98      0.97      0.97        40\n",
            "\n"
          ]
        }
      ]
    },
    {
      "cell_type": "code",
      "source": [],
      "metadata": {
        "id": "a7xGnM2ItUhY"
      },
      "execution_count": null,
      "outputs": []
    },
    {
      "cell_type": "markdown",
      "source": [
        "# Classification binaire : statut dans 5 ans "
      ],
      "metadata": {
        "id": "LcABu8LPt_Cv"
      }
    },
    {
      "cell_type": "code",
      "source": [
        "target=\"Status_5y\""
      ],
      "metadata": {
        "id": "sdnFRDXBuDS0"
      },
      "execution_count": 20,
      "outputs": []
    },
    {
      "cell_type": "code",
      "source": [
        "df=data.dropna(subset = [target])### drop null values in target"
      ],
      "metadata": {
        "id": "5u14cRlNuI0a"
      },
      "execution_count": 21,
      "outputs": []
    },
    {
      "cell_type": "code",
      "source": [
        "df[target].unique()"
      ],
      "metadata": {
        "colab": {
          "base_uri": "https://localhost:8080/"
        },
        "id": "SBDn7GnVuKU2",
        "outputId": "63ecbde9-1349-41b0-ab12-da605d807873"
      },
      "execution_count": 22,
      "outputs": [
        {
          "output_type": "execute_result",
          "data": {
            "text/plain": [
              "array(['Dead', 'Alive'], dtype=object)"
            ]
          },
          "metadata": {},
          "execution_count": 22
        }
      ]
    },
    {
      "cell_type": "code",
      "source": [
        "replace_dict={\"Dead\":0,\"Alive\":1}\n",
        "df[target]=df[target].replace(replace_dict)"
      ],
      "metadata": {
        "colab": {
          "base_uri": "https://localhost:8080/"
        },
        "id": "lbKUquDBuL5s",
        "outputId": "5f8fbbdb-ad57-47d7-dda1-53cd9e96501c"
      },
      "execution_count": 23,
      "outputs": [
        {
          "output_type": "stream",
          "name": "stderr",
          "text": [
            "<ipython-input-23-79c5ed8899f5>:2: SettingWithCopyWarning: \n",
            "A value is trying to be set on a copy of a slice from a DataFrame.\n",
            "Try using .loc[row_indexer,col_indexer] = value instead\n",
            "\n",
            "See the caveats in the documentation: https://pandas.pydata.org/pandas-docs/stable/user_guide/indexing.html#returning-a-view-versus-a-copy\n",
            "  df[target]=df[target].replace(replace_dict)\n"
          ]
        }
      ]
    },
    {
      "cell_type": "code",
      "source": [
        "X=df[numeric_features+categorical_features]\n",
        "y=df[target]"
      ],
      "metadata": {
        "id": "uZTSNLSNuOAo"
      },
      "execution_count": 24,
      "outputs": []
    },
    {
      "cell_type": "code",
      "source": [
        "from imblearn.over_sampling import RandomOverSampler\n",
        "ros = RandomOverSampler(random_state=0)\n",
        "X_resampled, y_resampled = ros.fit_resample(X, y)"
      ],
      "metadata": {
        "id": "djAuXfcLuPsz"
      },
      "execution_count": 25,
      "outputs": []
    },
    {
      "cell_type": "code",
      "source": [
        "clf = Pipeline(\n",
        "    steps=[(\"preprocessor\", preprocessor), (\"classifier\", DecisionTreeClassifier())]\n",
        ")\n",
        "\n",
        "X_train, X_test, y_train, y_test = train_test_split(X_resampled,y_resampled, test_size=0.3,random_state=42)\n",
        "\n",
        "clf.fit(X_train, y_train)\n",
        "print(\"model score: %.3f\" % clf.score(X_test, y_test))\n",
        "print(\"model auc score %.3f\" % roc_auc_score( y_test,clf.predict(X_test)))\n",
        "print(classification_report( y_test,clf.predict(X_test)))"
      ],
      "metadata": {
        "colab": {
          "base_uri": "https://localhost:8080/"
        },
        "id": "vBAupltuuRin",
        "outputId": "23141787-b0f2-410b-9378-27e0c90a197c"
      },
      "execution_count": 26,
      "outputs": [
        {
          "output_type": "stream",
          "name": "stdout",
          "text": [
            "model score: 0.714\n",
            "model auc score 0.697\n",
            "              precision    recall  f1-score   support\n",
            "\n",
            "           0       0.77      0.77      0.77        13\n",
            "           1       0.62      0.62      0.62         8\n",
            "\n",
            "    accuracy                           0.71        21\n",
            "   macro avg       0.70      0.70      0.70        21\n",
            "weighted avg       0.71      0.71      0.71        21\n",
            "\n"
          ]
        }
      ]
    },
    {
      "cell_type": "markdown",
      "source": [
        "# Target : Statut"
      ],
      "metadata": {
        "id": "UVtWZmkruXFK"
      }
    },
    {
      "cell_type": "code",
      "source": [
        "target=\"statut\""
      ],
      "metadata": {
        "id": "o-fr4Q4puToj"
      },
      "execution_count": 27,
      "outputs": []
    },
    {
      "cell_type": "code",
      "source": [
        "df=data.dropna(subset = [target])### drop null values in target"
      ],
      "metadata": {
        "id": "KnHebsnZubiP"
      },
      "execution_count": 28,
      "outputs": []
    },
    {
      "cell_type": "code",
      "source": [
        "df[target].unique()"
      ],
      "metadata": {
        "colab": {
          "base_uri": "https://localhost:8080/"
        },
        "id": "nXoz_qJzudJA",
        "outputId": "b7c87cef-4dfb-47fd-8a41-7ca7c4e2a6c3"
      },
      "execution_count": 29,
      "outputs": [
        {
          "output_type": "execute_result",
          "data": {
            "text/plain": [
              "array([0, 1])"
            ]
          },
          "metadata": {},
          "execution_count": 29
        }
      ]
    },
    {
      "cell_type": "code",
      "source": [
        "X=df[numeric_features+categorical_features]\n",
        "y=df[target]"
      ],
      "metadata": {
        "id": "MTKYlGpcuegZ"
      },
      "execution_count": 30,
      "outputs": []
    },
    {
      "cell_type": "code",
      "source": [
        "from imblearn.over_sampling import RandomOverSampler\n",
        "ros = RandomOverSampler(random_state=0)\n",
        "X_resampled, y_resampled = ros.fit_resample(X, y)"
      ],
      "metadata": {
        "id": "_TH1NORfugPb"
      },
      "execution_count": 31,
      "outputs": []
    },
    {
      "cell_type": "code",
      "source": [
        "clf = Pipeline(\n",
        "    steps=[(\"preprocessor\", preprocessor), (\"classifier\", GradientBoostingClassifier())]\n",
        ")\n",
        "\n",
        "X_train, X_test, y_train, y_test = train_test_split(X_resampled,y_resampled, test_size=0.2,random_state=42)\n",
        "\n",
        "clf.fit(X_train, y_train)\n",
        "print(\"model score: %.3f\" % clf.score(X_test, y_test))\n",
        "print(\"model auc score %.3f\" % roc_auc_score( y_test,clf.predict(X_test)))\n",
        "print(classification_report( y_test,clf.predict(X_test)))"
      ],
      "metadata": {
        "colab": {
          "base_uri": "https://localhost:8080/"
        },
        "id": "MR8Qv6vBuh2_",
        "outputId": "acc9f8f5-0637-420f-c7f2-d3892cc4854c"
      },
      "execution_count": 32,
      "outputs": [
        {
          "output_type": "stream",
          "name": "stdout",
          "text": [
            "model score: 0.793\n",
            "model auc score 0.798\n",
            "              precision    recall  f1-score   support\n",
            "\n",
            "           0       0.86      0.75      0.80        16\n",
            "           1       0.73      0.85      0.79        13\n",
            "\n",
            "    accuracy                           0.79        29\n",
            "   macro avg       0.80      0.80      0.79        29\n",
            "weighted avg       0.80      0.79      0.79        29\n",
            "\n"
          ]
        }
      ]
    },
    {
      "cell_type": "markdown",
      "source": [
        "# Target=Primary_response"
      ],
      "metadata": {
        "id": "8nncbwcGuptD"
      }
    },
    {
      "cell_type": "code",
      "source": [
        "target=\"Primary_response\""
      ],
      "metadata": {
        "id": "aEefQVwKumMO"
      },
      "execution_count": 33,
      "outputs": []
    },
    {
      "cell_type": "code",
      "source": [
        "df=data.dropna(subset = [target])### drop null values in target"
      ],
      "metadata": {
        "id": "KQHvNe0Zut7n"
      },
      "execution_count": 34,
      "outputs": []
    },
    {
      "cell_type": "code",
      "source": [
        "df[target].unique()"
      ],
      "metadata": {
        "colab": {
          "base_uri": "https://localhost:8080/"
        },
        "id": "XK5AcJ8QuvWY",
        "outputId": "455673db-9098-42a5-a234-440315b65aee"
      },
      "execution_count": 35,
      "outputs": [
        {
          "output_type": "execute_result",
          "data": {
            "text/plain": [
              "array(['PR', 'SD', 'PD', 'CR'], dtype=object)"
            ]
          },
          "metadata": {},
          "execution_count": 35
        }
      ]
    },
    {
      "cell_type": "code",
      "source": [
        "replace_dict={\"PR\":0,\"SD\":1,\"PD\":3,\"CR\":4}\n",
        "df[target]=df[target].replace(replace_dict)"
      ],
      "metadata": {
        "colab": {
          "base_uri": "https://localhost:8080/"
        },
        "id": "IqXovTnluxeJ",
        "outputId": "1f60d9b2-37bd-474e-8a81-0381c565ef2a"
      },
      "execution_count": 36,
      "outputs": [
        {
          "output_type": "stream",
          "name": "stderr",
          "text": [
            "<ipython-input-36-a10175adb4bc>:2: SettingWithCopyWarning: \n",
            "A value is trying to be set on a copy of a slice from a DataFrame.\n",
            "Try using .loc[row_indexer,col_indexer] = value instead\n",
            "\n",
            "See the caveats in the documentation: https://pandas.pydata.org/pandas-docs/stable/user_guide/indexing.html#returning-a-view-versus-a-copy\n",
            "  df[target]=df[target].replace(replace_dict)\n"
          ]
        }
      ]
    },
    {
      "cell_type": "code",
      "source": [
        "X=df[numeric_features+categorical_features]\n",
        "y=df[target]"
      ],
      "metadata": {
        "id": "YGRCxnSsuzpR"
      },
      "execution_count": 37,
      "outputs": []
    },
    {
      "cell_type": "code",
      "source": [
        "from imblearn.over_sampling import RandomOverSampler\n",
        "ros = RandomOverSampler(random_state=0)\n",
        "X_resampled, y_resampled = ros.fit_resample(X, y)"
      ],
      "metadata": {
        "id": "lipqg12au2Qf"
      },
      "execution_count": 38,
      "outputs": []
    },
    {
      "cell_type": "code",
      "source": [
        "clf = Pipeline(\n",
        "    steps=[(\"preprocessor\", preprocessor), (\"classifier\", DecisionTreeClassifier())]\n",
        ")\n",
        "\n",
        "X_train, X_test, y_train, y_test = train_test_split(X_resampled,y_resampled, test_size=0.3,random_state=42)\n",
        "\n",
        "clf.fit(X_train, y_train)\n",
        "print(\"model score: %.3f\" % clf.score(X_test, y_test))\n",
        "print(classification_report( y_test,clf.predict(X_test)))"
      ],
      "metadata": {
        "colab": {
          "base_uri": "https://localhost:8080/"
        },
        "id": "5FavZEd1u4ov",
        "outputId": "d9de57c1-7873-40b4-d54b-d35809d88a52"
      },
      "execution_count": 39,
      "outputs": [
        {
          "output_type": "stream",
          "name": "stdout",
          "text": [
            "model score: 0.961\n",
            "              precision    recall  f1-score   support\n",
            "\n",
            "           0       1.00      0.80      0.89        15\n",
            "           1       0.92      1.00      0.96        22\n",
            "           3       1.00      1.00      1.00        20\n",
            "           4       0.95      1.00      0.98        20\n",
            "\n",
            "    accuracy                           0.96        77\n",
            "   macro avg       0.97      0.95      0.96        77\n",
            "weighted avg       0.96      0.96      0.96        77\n",
            "\n"
          ]
        }
      ]
    },
    {
      "cell_type": "markdown",
      "source": [
        "# Target : Overall Response"
      ],
      "metadata": {
        "id": "iS8YynQyu8mG"
      }
    },
    {
      "cell_type": "code",
      "source": [
        "target=\"Overall_response\""
      ],
      "metadata": {
        "id": "6jSrsFUgu7OX"
      },
      "execution_count": 40,
      "outputs": []
    },
    {
      "cell_type": "code",
      "source": [
        "df=data.dropna(subset = [target])### drop null values in target"
      ],
      "metadata": {
        "id": "3ybH2IHnvA_W"
      },
      "execution_count": 41,
      "outputs": []
    },
    {
      "cell_type": "code",
      "source": [
        "replace_dict={\"PR\":0,\"SD\":1,\"PD\":3,\"CR\":4}\n",
        "df[target]=df[target].replace(replace_dict)"
      ],
      "metadata": {
        "colab": {
          "base_uri": "https://localhost:8080/"
        },
        "id": "QIpaE9T9vC_C",
        "outputId": "f36dd58a-771a-4a67-f4aa-e565dae07b78"
      },
      "execution_count": 42,
      "outputs": [
        {
          "output_type": "stream",
          "name": "stderr",
          "text": [
            "<ipython-input-42-a10175adb4bc>:2: SettingWithCopyWarning: \n",
            "A value is trying to be set on a copy of a slice from a DataFrame.\n",
            "Try using .loc[row_indexer,col_indexer] = value instead\n",
            "\n",
            "See the caveats in the documentation: https://pandas.pydata.org/pandas-docs/stable/user_guide/indexing.html#returning-a-view-versus-a-copy\n",
            "  df[target]=df[target].replace(replace_dict)\n"
          ]
        }
      ]
    },
    {
      "cell_type": "code",
      "source": [
        "X=df[numeric_features+categorical_features]\n",
        "y=df[target]"
      ],
      "metadata": {
        "id": "MSzsglTsvKlr"
      },
      "execution_count": 43,
      "outputs": []
    },
    {
      "cell_type": "code",
      "source": [
        "from imblearn.over_sampling import RandomOverSampler\n",
        "ros = RandomOverSampler(random_state=0)\n",
        "X_resampled, y_resampled = ros.fit_resample(X, y)"
      ],
      "metadata": {
        "id": "PjsaSoATvMs8"
      },
      "execution_count": 44,
      "outputs": []
    },
    {
      "cell_type": "code",
      "source": [
        "clf = Pipeline(\n",
        "    steps=[(\"preprocessor\", preprocessor), (\"classifier\", DecisionTreeClassifier())]\n",
        ")\n",
        "\n",
        "X_train, X_test, y_train, y_test = train_test_split(X_resampled,y_resampled, test_size=0.3,random_state=42)\n",
        "\n",
        "clf.fit(X_train, y_train)\n",
        "print(\"model score: %.3f\" % clf.score(X_test, y_test))\n",
        "print(classification_report( y_test,clf.predict(X_test)))"
      ],
      "metadata": {
        "colab": {
          "base_uri": "https://localhost:8080/"
        },
        "id": "KcUZqaJcvPJR",
        "outputId": "3e7bb2e2-a040-4c7d-bdbe-0e1ef6a1df0e"
      },
      "execution_count": 45,
      "outputs": [
        {
          "output_type": "stream",
          "name": "stdout",
          "text": [
            "model score: 0.936\n",
            "              precision    recall  f1-score   support\n",
            "\n",
            "           0       0.83      0.88      0.86        17\n",
            "           1       0.91      0.88      0.89        24\n",
            "           3       1.00      1.00      1.00        18\n",
            "           4       1.00      1.00      1.00        19\n",
            "\n",
            "    accuracy                           0.94        78\n",
            "   macro avg       0.94      0.94      0.94        78\n",
            "weighted avg       0.94      0.94      0.94        78\n",
            "\n"
          ]
        }
      ]
    },
    {
      "cell_type": "markdown",
      "source": [
        "# Target : initial global response"
      ],
      "metadata": {
        "id": "fqtTVqrjvUWZ"
      }
    },
    {
      "cell_type": "code",
      "source": [
        "target=\"Intitial_global_response\""
      ],
      "metadata": {
        "id": "CRSUpXhrvRCJ"
      },
      "execution_count": 46,
      "outputs": []
    },
    {
      "cell_type": "code",
      "source": [
        "df=data.dropna(subset = [target])### drop null values in target"
      ],
      "metadata": {
        "id": "Xv2isxc6vYgQ"
      },
      "execution_count": 47,
      "outputs": []
    },
    {
      "cell_type": "code",
      "source": [
        "df[target].unique()"
      ],
      "metadata": {
        "colab": {
          "base_uri": "https://localhost:8080/"
        },
        "id": "CuFrcWc7vaA7",
        "outputId": "a260e530-9db2-42f3-fa5b-579cfb4368bf"
      },
      "execution_count": 48,
      "outputs": [
        {
          "output_type": "execute_result",
          "data": {
            "text/plain": [
              "array(['CR_PR', 'PD', 'SD'], dtype=object)"
            ]
          },
          "metadata": {},
          "execution_count": 48
        }
      ]
    },
    {
      "cell_type": "code",
      "source": [
        "replace_dict={\"PR\":0,\"SD\":1,\"PD\":3,\"CR_PR\":4}\n",
        "df[target]=df[target].replace(replace_dict)"
      ],
      "metadata": {
        "colab": {
          "base_uri": "https://localhost:8080/"
        },
        "id": "vFJklzsPvbxw",
        "outputId": "df79d6f7-4068-47c4-d48b-0fa5a9cae4f3"
      },
      "execution_count": 49,
      "outputs": [
        {
          "output_type": "stream",
          "name": "stderr",
          "text": [
            "<ipython-input-49-c7e996e760d4>:2: SettingWithCopyWarning: \n",
            "A value is trying to be set on a copy of a slice from a DataFrame.\n",
            "Try using .loc[row_indexer,col_indexer] = value instead\n",
            "\n",
            "See the caveats in the documentation: https://pandas.pydata.org/pandas-docs/stable/user_guide/indexing.html#returning-a-view-versus-a-copy\n",
            "  df[target]=df[target].replace(replace_dict)\n"
          ]
        }
      ]
    },
    {
      "cell_type": "code",
      "source": [
        "X=df[numeric_features+categorical_features]\n",
        "y=df[target]"
      ],
      "metadata": {
        "id": "aC0txkUzvdx2"
      },
      "execution_count": 50,
      "outputs": []
    },
    {
      "cell_type": "code",
      "source": [
        "from imblearn.over_sampling import RandomOverSampler\n",
        "ros = RandomOverSampler(random_state=0)\n",
        "X_resampled, y_resampled = ros.fit_resample(X, y)"
      ],
      "metadata": {
        "id": "PZjUmxwDvgDi"
      },
      "execution_count": 51,
      "outputs": []
    },
    {
      "cell_type": "code",
      "source": [
        "clf = Pipeline(\n",
        "    steps=[(\"preprocessor\", preprocessor), (\"classifier\", DecisionTreeClassifier())]\n",
        ")\n",
        "\n",
        "X_train, X_test, y_train, y_test = train_test_split(X_resampled,y_resampled, test_size=0.3,random_state=42)\n",
        "\n",
        "clf.fit(X_train, y_train)\n",
        "print(\"model score: %.3f\" % clf.score(X_test, y_test))\n",
        "print(classification_report( y_test,clf.predict(X_test)))"
      ],
      "metadata": {
        "colab": {
          "base_uri": "https://localhost:8080/"
        },
        "id": "k8umW21-vjSV",
        "outputId": "2e3f5056-da4f-406d-9009-61b124f61182"
      },
      "execution_count": 52,
      "outputs": [
        {
          "output_type": "stream",
          "name": "stdout",
          "text": [
            "model score: 0.969\n",
            "              precision    recall  f1-score   support\n",
            "\n",
            "           1       0.92      1.00      0.96        24\n",
            "           3       1.00      1.00      1.00        24\n",
            "           4       1.00      0.88      0.93        16\n",
            "\n",
            "    accuracy                           0.97        64\n",
            "   macro avg       0.97      0.96      0.96        64\n",
            "weighted avg       0.97      0.97      0.97        64\n",
            "\n"
          ]
        }
      ]
    },
    {
      "cell_type": "markdown",
      "source": [
        "# Kaplan-Meier Prediction"
      ],
      "metadata": {
        "id": "DxmKJ8ATvniw"
      }
    },
    {
      "cell_type": "code",
      "source": [
        "!pip install lifelines"
      ],
      "metadata": {
        "colab": {
          "base_uri": "https://localhost:8080/"
        },
        "id": "RICK_8cwvl5S",
        "outputId": "54b6b31d-ab70-4efb-9be4-dfcc88e93593"
      },
      "execution_count": 53,
      "outputs": [
        {
          "output_type": "stream",
          "name": "stdout",
          "text": [
            "Looking in indexes: https://pypi.org/simple, https://us-python.pkg.dev/colab-wheels/public/simple/\n",
            "Collecting lifelines\n",
            "  Downloading lifelines-0.27.4-py3-none-any.whl (349 kB)\n",
            "\u001b[2K     \u001b[90m━━━━━━━━━━━━━━━━━━━━━━━━━━━━━━━━━━━━━━\u001b[0m \u001b[32m349.7/349.7 KB\u001b[0m \u001b[31m21.0 MB/s\u001b[0m eta \u001b[36m0:00:00\u001b[0m\n",
            "\u001b[?25hCollecting formulaic>=0.2.2\n",
            "  Downloading formulaic-0.5.2-py3-none-any.whl (77 kB)\n",
            "\u001b[2K     \u001b[90m━━━━━━━━━━━━━━━━━━━━━━━━━━━━━━━━━━━━━━━━\u001b[0m \u001b[32m77.1/77.1 KB\u001b[0m \u001b[31m9.7 MB/s\u001b[0m eta \u001b[36m0:00:00\u001b[0m\n",
            "\u001b[?25hRequirement already satisfied: pandas>=1.0.0 in /usr/local/lib/python3.8/dist-packages (from lifelines) (1.3.5)\n",
            "Requirement already satisfied: matplotlib>=3.0 in /usr/local/lib/python3.8/dist-packages (from lifelines) (3.5.3)\n",
            "Collecting autograd-gamma>=0.3\n",
            "  Downloading autograd-gamma-0.5.0.tar.gz (4.0 kB)\n",
            "  Preparing metadata (setup.py) ... \u001b[?25l\u001b[?25hdone\n",
            "Requirement already satisfied: numpy>=1.14.0 in /usr/local/lib/python3.8/dist-packages (from lifelines) (1.22.4)\n",
            "Requirement already satisfied: scipy>=1.2.0 in /usr/local/lib/python3.8/dist-packages (from lifelines) (1.7.3)\n",
            "Requirement already satisfied: autograd>=1.5 in /usr/local/lib/python3.8/dist-packages (from lifelines) (1.5)\n",
            "Requirement already satisfied: future>=0.15.2 in /usr/local/lib/python3.8/dist-packages (from autograd>=1.5->lifelines) (0.16.0)\n",
            "Requirement already satisfied: astor>=0.8 in /usr/local/lib/python3.8/dist-packages (from formulaic>=0.2.2->lifelines) (0.8.1)\n",
            "Collecting interface-meta>=1.2.0\n",
            "  Downloading interface_meta-1.3.0-py3-none-any.whl (14 kB)\n",
            "Requirement already satisfied: typing-extensions>=4.2.0 in /usr/local/lib/python3.8/dist-packages (from formulaic>=0.2.2->lifelines) (4.5.0)\n",
            "Requirement already satisfied: wrapt>=1.0 in /usr/local/lib/python3.8/dist-packages (from formulaic>=0.2.2->lifelines) (1.15.0)\n",
            "Collecting graphlib-backport>=1.0.0\n",
            "  Downloading graphlib_backport-1.0.3-py3-none-any.whl (5.1 kB)\n",
            "Requirement already satisfied: kiwisolver>=1.0.1 in /usr/local/lib/python3.8/dist-packages (from matplotlib>=3.0->lifelines) (1.4.4)\n",
            "Requirement already satisfied: pillow>=6.2.0 in /usr/local/lib/python3.8/dist-packages (from matplotlib>=3.0->lifelines) (8.4.0)\n",
            "Requirement already satisfied: packaging>=20.0 in /usr/local/lib/python3.8/dist-packages (from matplotlib>=3.0->lifelines) (23.0)\n",
            "Requirement already satisfied: python-dateutil>=2.7 in /usr/local/lib/python3.8/dist-packages (from matplotlib>=3.0->lifelines) (2.8.2)\n",
            "Requirement already satisfied: pyparsing>=2.2.1 in /usr/local/lib/python3.8/dist-packages (from matplotlib>=3.0->lifelines) (3.0.9)\n",
            "Requirement already satisfied: cycler>=0.10 in /usr/local/lib/python3.8/dist-packages (from matplotlib>=3.0->lifelines) (0.11.0)\n",
            "Requirement already satisfied: fonttools>=4.22.0 in /usr/local/lib/python3.8/dist-packages (from matplotlib>=3.0->lifelines) (4.38.0)\n",
            "Requirement already satisfied: pytz>=2017.3 in /usr/local/lib/python3.8/dist-packages (from pandas>=1.0.0->lifelines) (2022.7.1)\n",
            "Requirement already satisfied: six>=1.5 in /usr/local/lib/python3.8/dist-packages (from python-dateutil>=2.7->matplotlib>=3.0->lifelines) (1.15.0)\n",
            "Building wheels for collected packages: autograd-gamma\n",
            "  Building wheel for autograd-gamma (setup.py) ... \u001b[?25l\u001b[?25hdone\n",
            "  Created wheel for autograd-gamma: filename=autograd_gamma-0.5.0-py3-none-any.whl size=4048 sha256=96ca5ed95a3633913174d4498a7bff4ff01e261a6966381f4aeb2cbc6beaad31\n",
            "  Stored in directory: /root/.cache/pip/wheels/16/a2/b6/582cfdfbeeccd469504a01af3bb952fd9e7eccba40995eafea\n",
            "Successfully built autograd-gamma\n",
            "Installing collected packages: interface-meta, graphlib-backport, autograd-gamma, formulaic, lifelines\n",
            "Successfully installed autograd-gamma-0.5.0 formulaic-0.5.2 graphlib-backport-1.0.3 interface-meta-1.3.0 lifelines-0.27.4\n"
          ]
        }
      ]
    },
    {
      "cell_type": "code",
      "source": [
        "data.time_months.describe()"
      ],
      "metadata": {
        "colab": {
          "base_uri": "https://localhost:8080/"
        },
        "id": "uYOP6yQdvupk",
        "outputId": "ba9b2940-bddd-43a1-a7a0-9e8208058ce7"
      },
      "execution_count": 54,
      "outputs": [
        {
          "output_type": "execute_result",
          "data": {
            "text/plain": [
              "count     92.000000\n",
              "mean      49.304348\n",
              "std       26.342937\n",
              "min        1.000000\n",
              "25%       28.000000\n",
              "50%       47.500000\n",
              "75%       67.250000\n",
              "max      107.000000\n",
              "Name: time_months, dtype: float64"
            ]
          },
          "metadata": {},
          "execution_count": 54
        }
      ]
    },
    {
      "cell_type": "code",
      "source": [
        "import pandas as pd\n",
        "from lifelines import KaplanMeierFitter\n",
        "data=data.dropna(subset = ['time_months','statut'])### drop null values \n",
        "from imblearn.over_sampling import RandomOverSampler\n",
        "ros = RandomOverSampler(random_state=0)\n",
        "X_resampled, y_resampled = ros.fit_resample(data[['time_months']],data[['statut']])\n",
        "X_train, X_test, y_train, y_test = train_test_split(X_resampled, y_resampled, test_size=0.3,random_state=42)\n",
        "\n",
        "# fit the Kaplan-Meier estimator on the training set\n",
        "kmf = KaplanMeierFitter()\n",
        "kmf.fit(X_train, y_train)\n",
        "\n",
        "# classify patients in the test set based on survival\n",
        "y_pred = (kmf.predict(X_test['time_months']) > 0.5).astype(int)\n",
        "\n",
        "# compute classification metrics\n",
        "from sklearn.metrics import accuracy_score, precision_score, recall_score, f1_score\n",
        "accuracy = accuracy_score(y_pred,y_test)\n",
        "precision = precision_score(y_pred,y_test)\n",
        "recall = recall_score(y_pred,y_test)\n",
        "f1 = f1_score(y_pred,y_test)\n",
        "\n",
        "print(\"Accuracy:\", accuracy)\n",
        "print(\"Precision:\", precision)\n",
        "print(\"Recall:\", recall)\n",
        "print(\"F1-score:\", f1)"
      ],
      "metadata": {
        "colab": {
          "base_uri": "https://localhost:8080/"
        },
        "id": "_reTrh1KvwWb",
        "outputId": "94fe3c62-79fd-4435-b623-6abd9db64168"
      },
      "execution_count": 55,
      "outputs": [
        {
          "output_type": "stream",
          "name": "stdout",
          "text": [
            "Accuracy: 0.7272727272727273\n",
            "Precision: 0.7619047619047619\n",
            "Recall: 0.6956521739130435\n",
            "F1-score: 0.7272727272727272\n"
          ]
        }
      ]
    },
    {
      "cell_type": "markdown",
      "source": [
        "# Cox Analysis"
      ],
      "metadata": {
        "id": "OYioHJsVv0Xo"
      }
    },
    {
      "cell_type": "code",
      "source": [
        "import pandas as pd\n",
        "from lifelines import CoxPHFitter\n",
        "\n",
        "cox = CoxPHFitter().fit(data[['time_months','statut']],'time_months','statut')\n",
        "\n",
        "cox.print_summary()"
      ],
      "metadata": {
        "colab": {
          "base_uri": "https://localhost:8080/",
          "height": 443
        },
        "id": "eExX39TYv216",
        "outputId": "3603c83c-203d-4b2f-f8de-7600a9de72eb"
      },
      "execution_count": 56,
      "outputs": [
        {
          "output_type": "display_data",
          "data": {
            "text/plain": [
              "<lifelines.CoxPHFitter: fitted with 92 total observations, 72 right-censored observations>\n",
              "             duration col = 'time_months'\n",
              "                event col = 'statut'\n",
              "      baseline estimation = breslow\n",
              "   number of observations = 92\n",
              "number of events observed = 20\n",
              "   partial log-likelihood = -84.76\n",
              "         time fit was run = 2023-03-02 09:55:30 UTC\n",
              "\n",
              "---\n",
              "Empty DataFrame\n",
              "Columns: [ coef,  exp(coef),  se(coef),  coef lower 95%,  coef upper 95%,  exp(coef) lower 95%,  exp(coef) upper 95%]\n",
              "Index: []\n",
              "\n",
              "Empty DataFrame\n",
              "Columns: [ cmp to,  z,  p,  -log2(p)]\n",
              "Index: []\n",
              "---\n",
              "Concordance = 0.50\n",
              "Partial AIC = 169.53\n",
              "log-likelihood ratio test = 0.00 on 0 df\n",
              "-log2(p) of ll-ratio test = nan"
            ],
            "text/html": [
              "<div>\n",
              "<style scoped>\n",
              "    .dataframe tbody tr th:only-of-type {\n",
              "        vertical-align: middle;\n",
              "    }\n",
              "\n",
              "    .dataframe tbody tr th {\n",
              "        vertical-align: top;\n",
              "    }\n",
              "\n",
              "    .dataframe thead th {\n",
              "        text-align: right;\n",
              "    }\n",
              "</style>\n",
              "<table border=\"1\" class=\"dataframe\">\n",
              "  <tbody>\n",
              "    <tr>\n",
              "      <th>model</th>\n",
              "      <td>lifelines.CoxPHFitter</td>\n",
              "    </tr>\n",
              "    <tr>\n",
              "      <th>duration col</th>\n",
              "      <td>'time_months'</td>\n",
              "    </tr>\n",
              "    <tr>\n",
              "      <th>event col</th>\n",
              "      <td>'statut'</td>\n",
              "    </tr>\n",
              "    <tr>\n",
              "      <th>baseline estimation</th>\n",
              "      <td>breslow</td>\n",
              "    </tr>\n",
              "    <tr>\n",
              "      <th>number of observations</th>\n",
              "      <td>92</td>\n",
              "    </tr>\n",
              "    <tr>\n",
              "      <th>number of events observed</th>\n",
              "      <td>20</td>\n",
              "    </tr>\n",
              "    <tr>\n",
              "      <th>partial log-likelihood</th>\n",
              "      <td>-84.76</td>\n",
              "    </tr>\n",
              "    <tr>\n",
              "      <th>time fit was run</th>\n",
              "      <td>2023-03-02 09:55:30 UTC</td>\n",
              "    </tr>\n",
              "  </tbody>\n",
              "</table>\n",
              "</div><table border=\"1\" class=\"dataframe\">\n",
              "  <thead>\n",
              "    <tr style=\"text-align: right;\">\n",
              "      <th style=\"min-width: 12px;\"></th>\n",
              "      <th style=\"min-width: 12px;\">coef</th>\n",
              "      <th style=\"min-width: 12px;\">exp(coef)</th>\n",
              "      <th style=\"min-width: 12px;\">se(coef)</th>\n",
              "      <th style=\"min-width: 12px;\">coef lower 95%</th>\n",
              "      <th style=\"min-width: 12px;\">coef upper 95%</th>\n",
              "      <th style=\"min-width: 12px;\">exp(coef) lower 95%</th>\n",
              "      <th style=\"min-width: 12px;\">exp(coef) upper 95%</th>\n",
              "      <th style=\"min-width: 12px;\">cmp to</th>\n",
              "      <th style=\"min-width: 12px;\">z</th>\n",
              "      <th style=\"min-width: 12px;\">p</th>\n",
              "      <th style=\"min-width: 12px;\">-log2(p)</th>\n",
              "    </tr>\n",
              "  </thead>\n",
              "  <tbody>\n",
              "  </tbody>\n",
              "</table><br><div>\n",
              "<style scoped>\n",
              "    .dataframe tbody tr th:only-of-type {\n",
              "        vertical-align: middle;\n",
              "    }\n",
              "\n",
              "    .dataframe tbody tr th {\n",
              "        vertical-align: top;\n",
              "    }\n",
              "\n",
              "    .dataframe thead th {\n",
              "        text-align: right;\n",
              "    }\n",
              "</style>\n",
              "<table border=\"1\" class=\"dataframe\">\n",
              "  <tbody>\n",
              "    <tr>\n",
              "      <th>Concordance</th>\n",
              "      <td>0.50</td>\n",
              "    </tr>\n",
              "    <tr>\n",
              "      <th>Partial AIC</th>\n",
              "      <td>169.53</td>\n",
              "    </tr>\n",
              "    <tr>\n",
              "      <th>log-likelihood ratio test</th>\n",
              "      <td>0.00 on 0 df</td>\n",
              "    </tr>\n",
              "    <tr>\n",
              "      <th>-log2(p) of ll-ratio test</th>\n",
              "      <td>nan</td>\n",
              "    </tr>\n",
              "  </tbody>\n",
              "</table>\n",
              "</div>"
            ],
            "text/latex": "\\begin{tabular}{lrrrrrrrrrrr}\n{} & {coef} & {exp(coef)} & {se(coef)} & {coef lower 95%} & {coef upper 95%} & {exp(coef) lower 95%} & {exp(coef) upper 95%} & {cmp to} & {z} & {p} & {-log2(p)} \\\\\n{covariate} & {} & {} & {} & {} & {} & {} & {} & {} & {} & {} & {} \\\\\n\\end{tabular}\n"
          },
          "metadata": {}
        }
      ]
    },
    {
      "cell_type": "code",
      "source": [],
      "metadata": {
        "id": "fusjBpgXv5mJ"
      },
      "execution_count": null,
      "outputs": []
    }
  ]
}